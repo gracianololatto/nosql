{
 "cells": [
  {
   "cell_type": "code",
   "execution_count": 70,
   "metadata": {},
   "outputs": [],
   "source": [
    "# foi necessário baixar manualmente o pacote e substituir o que foi baixado pelo '!pip install redis'\n",
    "import redis"
   ]
  },
  {
   "cell_type": "code",
   "execution_count": 71,
   "metadata": {},
   "outputs": [],
   "source": [
    "redis = redis.Redis('localhost')"
   ]
  },
  {
   "cell_type": "code",
   "execution_count": 72,
   "metadata": {},
   "outputs": [],
   "source": [
    "# cria números para cartelas\n",
    "def cria_numeros():\n",
    "    for x in range(99):\n",
    "        redis.sadd(\"numeros\", x+1)"
   ]
  },
  {
   "cell_type": "code",
   "execution_count": 73,
   "metadata": {},
   "outputs": [],
   "source": [
    "# cadastra os 50 jogadores\n",
    "ctx = 1\n",
    "while ctx <= 50:\n",
    "    i = str(ctx)\n",
    "    redis.hset(\"jogador\"+i, \"nome\", \"jogador\"+i)\n",
    "    redis.hset(\"jogador\"+i, \"cartela\", \"cartela\"+i)\n",
    "    redis.hset(\"jogador\"+i, \"pontuacao\", \"pontuacao\"+i)\n",
    "    \n",
    "    ctx += 1"
   ]
  },
  {
   "cell_type": "code",
   "execution_count": 74,
   "metadata": {},
   "outputs": [],
   "source": [
    "# cria as cartelas as 50 cartelas para os 50 jogadores\n",
    "for x in range(50):\n",
    "    cria_numeros()\n",
    "    for i in range(15):\n",
    "        num = redis.srandmember('numeros')\n",
    "        redis.sadd(\"cartela\"+str(x+1), num)\n",
    "        redis.srem('numeros', num)"
   ]
  },
  {
   "cell_type": "code",
   "execution_count": 75,
   "metadata": {},
   "outputs": [],
   "source": [
    "# cria pontuação zero para todos os jogadores iniciarem o sorteio\n",
    "for x in range(50):\n",
    "    redis.zadd(\"pontuacao\", {\"pontuacao\"+str(x+1): 0})"
   ]
  },
  {
   "cell_type": "code",
   "execution_count": 76,
   "metadata": {},
   "outputs": [],
   "source": [
    "# efetua o sorteio até ao menos um jogador atingir 15 pontos\n",
    "cria_numeros()\n",
    "i = 0\n",
    "while i != 1:  \n",
    "    num = redis.srandmember('numeros')\n",
    "    redis.srem('numeros', num)\n",
    "    \n",
    "    for x in range(50):\n",
    "        ctl = 'cartela'+str(x+1)\n",
    "        scr = 'pontuacao'+str(x+1)\n",
    "        nm = 'jogador'+str(x+1)\n",
    "        if redis.sismember(ctl,num):\n",
    "            redis.zincrby('pontuacao', float(1), scr)\n",
    "            \n",
    "        if len(redis.zrangebyscore('pontuacao',15,15)) > 0:\n",
    "            i = 1"
   ]
  },
  {
   "cell_type": "code",
   "execution_count": 77,
   "metadata": {},
   "outputs": [
    {
     "name": "stdout",
     "output_type": "stream",
     "text": [
      "[b'pontuacao33', b'pontuacao40', b'pontuacao44', b'pontuacao5', b'pontuacao6']\n"
     ]
    }
   ],
   "source": [
    "# lista de jogadores que atingiram 15 pontos\n",
    "ganhadores = redis.zrangebyscore('pontuacao',15,15)\n",
    "print(redis.zrangebyscore('pontuacao',15,15))"
   ]
  },
  {
   "cell_type": "code",
   "execution_count": 78,
   "metadata": {},
   "outputs": [
    {
     "name": "stdout",
     "output_type": "stream",
     "text": [
      "b'jogador5'\n",
      "b'jogador6'\n",
      "b'jogador33'\n",
      "b'jogador40'\n",
      "b'jogador44'\n"
     ]
    }
   ],
   "source": [
    "# lista dos nomes dos jogadores com 15 pontos\n",
    "for x in range(50):\n",
    "    for i in ganhadores:\n",
    "        if redis.hget('jogador'+str(x+1), 'pontuacao') == i:\n",
    "            print(redis.hget('jogador'+str(x+1), 'nome'))"
   ]
  }
 ],
 "metadata": {
  "kernelspec": {
   "display_name": "Python 3",
   "language": "python",
   "name": "python3"
  },
  "language_info": {
   "codemirror_mode": {
    "name": "ipython",
    "version": 3
   },
   "file_extension": ".py",
   "mimetype": "text/x-python",
   "name": "python",
   "nbconvert_exporter": "python",
   "pygments_lexer": "ipython3",
   "version": "3.7.6"
  }
 },
 "nbformat": 4,
 "nbformat_minor": 4
}
